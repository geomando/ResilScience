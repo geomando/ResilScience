{
 "metadata": {
  "name": ""
 },
 "nbformat": 3,
 "nbformat_minor": 0,
 "worksheets": [
  {
   "cells": [
    {
     "cell_type": "markdown",
     "metadata": {},
     "source": [
      "An example of machine learning techniques -- principal component analysis and k-means clustering -- for visual analysis of high-dimensional disaster recovery data\n",
      "=================================================================================================\n",
      "**Data is simulated using ResilUS ([Miles and Chang, 2011](http://www.ingentaconnect.com/content/cagis/cagis/2011/00000038/00000001/art00003)).**  \n",
      "*Coded by* [*Scott Miles*](http://resilscience.com/?page_id=2)"
     ]
    },
    {
     "cell_type": "markdown",
     "metadata": {},
     "source": [
      "Import some cool stuff for doing the analysis: [Scikit Learn](http://scikit-learn.org/stable/), [Matplotlib](http://matplotlib.org), and [Pandas](http://pandas.pydata.org).\n"
     ]
    },
    {
     "cell_type": "code",
     "collapsed": true,
     "input": [
      "from sklearn import decomposition    # allows you to do PCA\n",
      "from sklearn import cluster # allows you to do k means clustering\n",
      "from matplotlib import cm, colors # helps with creating a legend\n",
      "import pandas # awesome data handling"
     ],
     "language": "python",
     "metadata": {},
     "outputs": [],
     "prompt_number": 2
    },
    {
     "cell_type": "markdown",
     "metadata": {},
     "source": [
      "Set display options for pandas for easier viewing of tables"
     ]
    },
    {
     "cell_type": "code",
     "collapsed": false,
     "input": [
      "pandas.set_option('display.height', 500)\n",
      "pandas.set_option('display.max_rows', 500)\n",
      "pandas.set_option('display.max_columns', 500)\n",
      "pandas.set_option('display.width', 500)\n",
      "pandas.set_option('display.mpl_style', False)"
     ],
     "language": "python",
     "metadata": {},
     "outputs": [
      {
       "output_type": "stream",
       "stream": "stderr",
       "text": [
        "/Users/geomando/Library/Enthought/Canopy_32bit/User/lib/python2.7/site-packages/pandas/core/config.py:570: DeprecationWarning: height has been deprecated.\n",
        "\n",
        "  warnings.warn(d.msg, DeprecationWarning)\n"
       ]
      }
     ],
     "prompt_number": 3
    },
    {
     "cell_type": "markdown",
     "metadata": {},
     "source": [
      "Read data for PCA and pull out columns and rows for labeling later"
     ]
    },
    {
     "cell_type": "code",
     "collapsed": false,
     "input": [
      "rec_data = read_csv('sample_data.csv') # our recovery data table\n",
      "row_labels = rec_data.index.astype('int')\n",
      "column_labels = rec_data.columns"
     ],
     "language": "python",
     "metadata": {},
     "outputs": [
      {
       "ename": "NameError",
       "evalue": "name 'read_csv' is not defined",
       "output_type": "pyerr",
       "traceback": [
        "\u001b[0;31m---------------------------------------------------------------------------\u001b[0m\n\u001b[0;31mNameError\u001b[0m                                 Traceback (most recent call last)",
        "\u001b[0;32m<ipython-input-4-1835c98226c3>\u001b[0m in \u001b[0;36m<module>\u001b[0;34m()\u001b[0m\n\u001b[0;32m----> 1\u001b[0;31m \u001b[0mrec_data\u001b[0m \u001b[0;34m=\u001b[0m \u001b[0mread_csv\u001b[0m\u001b[0;34m(\u001b[0m\u001b[0;34m'sample_data.csv'\u001b[0m\u001b[0;34m)\u001b[0m \u001b[0;31m# our recovery data table\u001b[0m\u001b[0;34m\u001b[0m\u001b[0m\n\u001b[0m\u001b[1;32m      2\u001b[0m \u001b[0mrow_labels\u001b[0m \u001b[0;34m=\u001b[0m \u001b[0mrec_data\u001b[0m\u001b[0;34m.\u001b[0m\u001b[0mindex\u001b[0m\u001b[0;34m.\u001b[0m\u001b[0mastype\u001b[0m\u001b[0;34m(\u001b[0m\u001b[0;34m'int'\u001b[0m\u001b[0;34m)\u001b[0m\u001b[0;34m\u001b[0m\u001b[0m\n\u001b[1;32m      3\u001b[0m \u001b[0mcolumn_labels\u001b[0m \u001b[0;34m=\u001b[0m \u001b[0mrec_data\u001b[0m\u001b[0;34m.\u001b[0m\u001b[0mcolumns\u001b[0m\u001b[0;34m\u001b[0m\u001b[0m\n",
        "\u001b[0;31mNameError\u001b[0m: name 'read_csv' is not defined"
       ]
      }
     ],
     "prompt_number": 4
    },
    {
     "cell_type": "markdown",
     "metadata": {},
     "source": [
      "Print out recovery data. Notice how pandas permits pretty printing of tables"
     ]
    },
    {
     "cell_type": "code",
     "collapsed": false,
     "input": [
      "rec_data"
     ],
     "language": "python",
     "metadata": {},
     "outputs": []
    },
    {
     "cell_type": "markdown",
     "metadata": {},
     "source": [
      "__Reduce the dimensionality of the data using principal components analysis and visualize__"
     ]
    },
    {
     "cell_type": "markdown",
     "metadata": {},
     "source": [
      "Run PCA to with neighborhoods as observations\n"
     ]
    },
    {
     "cell_type": "code",
     "collapsed": false,
     "input": [
      "pca = decomposition.ProbabilisticPCA(n_components=2, whiten=True)\n",
      "myPCA = pca.fit_transform(rec_data)\n",
      "pc1 = myPCA[:, 0]\n",
      "pc2 = myPCA[:, 1]"
     ],
     "language": "python",
     "metadata": {},
     "outputs": []
    },
    {
     "cell_type": "markdown",
     "metadata": {},
     "source": [
      "Run PCA to with recovery indicators as observations (transpose of original data)"
     ]
    },
    {
     "cell_type": "code",
     "collapsed": false,
     "input": [
      "pca_rec = decomposition.ProbabilisticPCA(n_components=2, whiten=True)\n",
      "myPCA_rec = pca.fit_transform(rec_data.T)  # took the transpose of the recovery data table\n",
      "pc1_rec = myPCA_rec[:, 0]\n",
      "pc2_rec = myPCA_rec[:, 1]"
     ],
     "language": "python",
     "metadata": {},
     "outputs": []
    },
    {
     "cell_type": "markdown",
     "metadata": {},
     "source": [
      "Create a bubble chart showing six variables:  \n",
      "1. First principal component of neighborhoods as x-axis  \n",
      "2. Second principal component of neighborhoods as y-axis  \n",
      "3. First principal component of recovery indicators as x-axis\n",
      "4. Second principal component of recovery indicators as y-axis  \n",
      "5. Recovery indicator 1 as graduated symbol (user defined)  \n",
      "6. Recovery indicator 2 as graduated color (user defined)  "
     ]
    },
    {
     "cell_type": "code",
     "collapsed": true,
     "input": [
      "figure(figsize=(10,8))\n",
      "\n",
      "# Choose recovery indicator for graduated symbol\n",
      "# Set arbitrary scale value\n",
      "indicator_for_area = rec_data['# Residents Left']*area_scale \n",
      "area_scale = 10\n",
      "\n",
      "# Choose recovery indicator for graduated colors\n",
      "# Do various stuff for implementing graduated colors\n",
      "indicator_for_color = rec_data['% Renter']\n",
      "color_norm = [item/100. for item in indicator_for_color] # normalize from 0 to 1 in order to use as grayscale colormap\n",
      "color_norm_str = [str(item) for item in color_norm] # convert each entry to string for use in plot command\n",
      "\n",
      "# create scatter plot of the two neighborhood principal components with graduated symbols and colors.\n",
      "scatter(pc1, pc2, s=indicator_for_area, c=color_norm_str, alpha=1)\n",
      "\n",
      "# Plot the neighborhood labels\n",
      "# have to use parallel for loop using zip because annotate function will only label one point at a time\n",
      "for label, x, y in zip(row_labels, pc1, pc2):\n",
      "    annotate(\n",
      "        label, \n",
      "        xy = (x, y), xytext = (0, 0),\n",
      "        textcoords = 'offset points', ha = 'center', va = 'center', size='8')\n",
      "\n",
      "# label x and y axes of plot, inserting the calculated variance explained by the first and second principal components\n",
      "xlabel(\"Principal Component 1\" + \" (\" + str(round(100*pca.explained_variance_ratio_[0],2)) + \"% of variance)\") # the myPCA.fracs bit add the variance percentage to the label\n",
      "ylabel(\"Principal Component 2\"  + \" (\" + str(round(100*pca.explained_variance_ratio_[1],2)) + \"% of variance)\") # the myPCA.fracs bit add the variance percentage to the label\n",
      "\n",
      "# Create colorbar legend\n",
      "m = cm.ScalarMappable()\n",
      "m.set_array(color_column)\n",
      "m.set_cmap(cmap='gray')\n",
      "norm = colors.Normalize(vmin=0, vmax=100)\n",
      "m.set_norm(norm)\n",
      "m.set_clim(vmin=0.0, vmax=100.0)\n",
      "cbar = plt.colorbar(m) \n",
      "cbar.set_label('% Renter') # Too lazy to generalize legend label\n",
      "\n",
      "# Anyone know a good solution for making a graduated symbol legend?\n",
      "# None of my attempts have been generalizable\n",
      "annotate('Number Residents Left', xy = (1.8, 2.25), xytext = (0, 0),\n",
      "        textcoords = 'offset points', ha = 'right', va = 'center', size='12')\n",
      "annotate('as Graduated Symbols', xy = (1.8, 2.1), xytext = (0, 0),\n",
      "        textcoords = 'offset points', ha = 'right', va = 'center', size='12')\n",
      "\n",
      "# Plot the principal components -- as just labels -- of the recovery indicators\n",
      "for label, x, y in zip(column_labels, pc1_rec, pc2_rec):\n",
      "    annotate(\n",
      "        label, \n",
      "        xy = (x, y), xytext = (0, 0),\n",
      "        textcoords = 'offset points', ha = 'center', va = 'center', size='8')    "
     ],
     "language": "python",
     "metadata": {},
     "outputs": []
    },
    {
     "cell_type": "markdown",
     "metadata": {},
     "source": [
      "__Identify neighborhoods with similar resilience using k-means clustering and visualize__"
     ]
    },
    {
     "cell_type": "markdown",
     "metadata": {},
     "source": [
      "Run kmeans cluster on neighborhoods PCA to identify and symbolize potential clusters in pca results"
     ]
    },
    {
     "cell_type": "code",
     "collapsed": false,
     "input": [
      "kmeans = cluster.KMeans(n_clusters=5)\n",
      "clust = kmeans.fit(myPCA)"
     ],
     "language": "python",
     "metadata": {},
     "outputs": []
    },
    {
     "cell_type": "markdown",
     "metadata": {},
     "source": [
      "Run kmeans cluster on recovery indicators PCA to identify and symbolize potential clusters in pca results"
     ]
    },
    {
     "cell_type": "code",
     "collapsed": false,
     "input": [
      "kmeans_rec = cluster.KMeans(n_clusters=5)\n",
      "clusters_rec = kmeans_rec.fit(myPCA_rec)"
     ],
     "language": "python",
     "metadata": {},
     "outputs": []
    },
    {
     "cell_type": "code",
     "collapsed": false,
     "input": [
      "figure(figsize=(10,8))\n",
      "\n",
      "# Plot two principal components of neigbhorhoods with color determined by which of the five k-means clusters assigned to components\n",
      "scatter(pc1, pc2, s=200, c=clust.labels_, alpha=.5)\n",
      "\n",
      "# label x and y axes\n",
      "xlabel(\"Principal Component 1\" + \" (\" + str(round(100*pca.explained_variance_ratio_[0],2)) + \"% of variance)\") # the myPCA.fracs bit add the variance percentage to the label\n",
      "ylabel(\"Principal Component 2\"  + \" (\" + str(round(100*pca.explained_variance_ratio_[1],2)) + \"% of variance)\") # the myPCA.fracs bit add the variance percentage to the label\n",
      "\n",
      "\n",
      "# plot labels of PCA recovery indicators\n",
      "# have to use parallel for loop using zip because annotate function will only label one point at a time\n",
      "for label, x, y in zip(column_labels, pc1_rec, pc2_rec):\n",
      "    annotate(\n",
      "        label,\n",
      "        xy = (x, y), xytext = (0, 0),\n",
      "        textcoords = 'offset points', ha = 'center', va = 'center', size='8')\n",
      "\n",
      "# plot labels of neighborhood IDs \n",
      "for label, x, y in zip(row_labels, pc1, pc2):\n",
      "    annotate(\n",
      "        label, \n",
      "        xy = (x, y), xytext = (0, 0),\n",
      "        textcoords = 'offset points', ha = 'center', va = 'center', size='8')"
     ],
     "language": "python",
     "metadata": {},
     "outputs": []
    },
    {
     "cell_type": "code",
     "collapsed": false,
     "input": [],
     "language": "python",
     "metadata": {},
     "outputs": []
    }
   ],
   "metadata": {}
  }
 ]
}